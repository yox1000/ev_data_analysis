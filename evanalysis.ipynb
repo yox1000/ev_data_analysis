{
  "nbformat": 4,
  "nbformat_minor": 0,
  "metadata": {
    "colab": {
      "provenance": [],
      "authorship_tag": "ABX9TyOTs9PNf5eZUq2/sxAUy5Fd",
      "include_colab_link": true
    },
    "kernelspec": {
      "name": "python3",
      "display_name": "Python 3"
    },
    "language_info": {
      "name": "python"
    }
  },
  "cells": [
    {
      "cell_type": "markdown",
      "metadata": {
        "id": "view-in-github",
        "colab_type": "text"
      },
      "source": [
        "<a href=\"https://colab.research.google.com/github/yox1000/ev_data_analysis/blob/main/evanalysis.ipynb\" target=\"_parent\"><img src=\"https://colab.research.google.com/assets/colab-badge.svg\" alt=\"Open In Colab\"/></a>"
      ]
    },
    {
      "cell_type": "code",
      "execution_count": null,
      "metadata": {
        "id": "-tXhP9kGc2bx"
      },
      "outputs": [],
      "source": [
        "!pip install pandas geopandas matplotlib folium"
      ]
    },
    {
      "cell_type": "code",
      "source": [
        "import pandas as pd\n",
        "import numpy as np\n",
        "import geopandas as gpd\n",
        "import matplotlib.pyplot as plt\n",
        "import folium\n",
        "from folium.plugins import HeatMap\n",
        "from shapely.geometry import Point\n",
        "import matplotlib.pyplot as plt\n",
        "from shapely.ops import unary_union\n",
        "from itertools import count\n",
        "\n"
      ],
      "metadata": {
        "id": "FTBJJ31Iio0b"
      },
      "execution_count": null,
      "outputs": []
    },
    {
      "cell_type": "code",
      "source": [
        "from google.colab import files\n",
        "uploaded = files.upload()"
      ],
      "metadata": {
        "id": "j7S_wznJiyX7"
      },
      "execution_count": null,
      "outputs": []
    },
    {
      "cell_type": "code",
      "source": [
        "df = pd.read_csv(\"alt_fuel_stations (Jul 29 2021).csv\")\n"
      ],
      "metadata": {
        "id": "6h-i_yqVjeZI"
      },
      "execution_count": null,
      "outputs": []
    },
    {
      "cell_type": "code",
      "source": [
        "df.head()"
      ],
      "metadata": {
        "id": "DPkPp_Q7jo0K"
      },
      "execution_count": null,
      "outputs": []
    },
    {
      "cell_type": "code",
      "source": [
        "df.info()\n",
        "df.columns"
      ],
      "metadata": {
        "id": "bAIyoXYKj-qq"
      },
      "execution_count": null,
      "outputs": []
    },
    {
      "cell_type": "code",
      "source": [
        "cols_to_drop = [\n",
        "    \"Station Phone\", \"Expected Date\",\n",
        "    # Drop EV Level1 through Geocode Status inclusive\n",
        "    *df.loc[:, \"EV Level1 EVSE Num\":\"Geocode Status\"].columns,\n",
        "    \"Date Last Confirmed\",\n",
        "    \"Intersection Directions\",\n",
        "    # Drop Updated At and everything to the right of it\n",
        "    *df.loc[:, \"Updated At\":].columns,\n",
        "    # Drop columns 10–14 (Access Days Time → NG PSI)\n",
        "    *df.columns[10:15],\n",
        "    # Explicitly drop these extra columns\n",
        "    \"Plus4\", \"Status Code\", \"NG Fill Type Code\", \"NG PSI\"\n",
        "]\n",
        "\n",
        "df_clean = df.drop(columns=[c for c in cols_to_drop if c in df.columns])\n",
        "df_clean.info()\n"
      ],
      "metadata": {
        "id": "mgxhElzMlkbW"
      },
      "execution_count": null,
      "outputs": []
    },
    {
      "cell_type": "code",
      "source": [
        "df_clean[\"Street Address\"].isnull().sum()\n",
        "missing_addr = df_clean[df_clean[\"Street Address\"].isna()]\n",
        "missing_addr.head()"
      ],
      "metadata": {
        "id": "EKOq6d12lwv_"
      },
      "execution_count": null,
      "outputs": []
    },
    {
      "cell_type": "markdown",
      "source": [
        "**Fill in missing addresses**"
      ],
      "metadata": {
        "id": "E_8-R6H4qv-X"
      }
    },
    {
      "cell_type": "code",
      "source": [
        "df_clean.loc[df_clean[\"ID\"] == 82475, \"Street Address\"] = \"Army Base, 1 Fort Shafter Bldg 434, Fort Shafter, HI 96858\"\n",
        "df_clean.loc[df_clean[\"ID\"] == 169548, \"Street Address\"] = \"141 Sutton Steam Plant Rd, Wilmington, NC 28401\"\n",
        "\n",
        "missing_addr = df_clean[df_clean[\"Street Address\"].isna()]\n",
        "missing_addr.head()\n",
        "\n",
        "df_clean.loc[df_clean[\"ID\"].isin([82475, 169548]), [\"Station Name\", \"Street Address\", \"City\", \"State\", \"ZIP\"]]"
      ],
      "metadata": {
        "id": "KxUBV6F5pFqF"
      },
      "execution_count": null,
      "outputs": []
    },
    {
      "cell_type": "code",
      "source": [
        "df_map = df_clean.dropna(subset=[\"Latitude\", \"Longitude\"])"
      ],
      "metadata": {
        "id": "qsBD3XvGRu5q"
      },
      "execution_count": null,
      "outputs": []
    },
    {
      "cell_type": "markdown",
      "source": [
        "**Clean Map**"
      ],
      "metadata": {
        "id": "-BGfBQmcT1uq"
      }
    },
    {
      "cell_type": "code",
      "source": [
        "mask = df_clean[\"Street Address\"].str.contains(\n",
        "    \"Maxwell Dr|Keystone Park Rd\", case=False, na=False\n",
        ")\n",
        "df_clean.loc[mask, [\"ID\", \"Station Name\", \"Street Address\", \"City\", \"State\", \"ZIP\"]]\n"
      ],
      "metadata": {
        "id": "goNQFSLjT1Op"
      },
      "execution_count": null,
      "outputs": []
    },
    {
      "cell_type": "code",
      "source": [
        "# Update ID 175080 → Maxwell Dr (Clifton Park, NY)\n",
        "df_clean.loc[df_clean[\"ID\"] == 175080, [\"Latitude\", \"Longitude\"]] = [42.86764998844894, -73.78219169844964]\n",
        "\n",
        "# Update ID 191120 → Keystone Park (Derry, PA)\n",
        "df_clean.loc[df_clean[\"ID\"] == 191120, [\"Latitude\", \"Longitude\"]] = [40.37484274267125, -79.38030680031966]\n",
        "\n",
        "#verify fixes\n",
        "\n",
        "df_clean.loc[df_clean[\"ID\"].isin([175080, 191120]), [\"ID\", \"Station Name\", \"Street Address\", \"City\", \"State\", \"Latitude\", \"Longitude\"]]\n",
        "\n"
      ],
      "metadata": {
        "id": "ekuu-fZLmknI"
      },
      "execution_count": null,
      "outputs": []
    },
    {
      "cell_type": "code",
      "source": [
        "m = folium.Map(\n",
        "    location=[df_clean[\"Latitude\"].mean(), df_clean[\"Longitude\"].mean()],\n",
        "    zoom_start=4,\n",
        "    tiles=\"CartoDB positron\"  # clean basemap\n",
        ")\n",
        "\n",
        "from folium.plugins import MarkerCluster\n",
        "\n",
        "marker_cluster = MarkerCluster().add_to(m)\n",
        "\n",
        "for _, row in df_clean.iterrows():\n",
        "    popup_text = f\"\"\"\n",
        "    <b>{row['Station Name']}</b><br>\n",
        "    {row['Street Address']}<br>\n",
        "    {row['City']}, {row['State']} {row['ZIP']}\n",
        "    \"\"\"\n",
        "    folium.Marker(\n",
        "        location=[row[\"Latitude\"], row[\"Longitude\"]],\n",
        "        popup=popup_text\n",
        "    ).add_to(marker_cluster)\n",
        "\n",
        "\n",
        "m"
      ],
      "metadata": {
        "collapsed": true,
        "id": "lHbTt-axR6sp"
      },
      "execution_count": null,
      "outputs": []
    },
    {
      "cell_type": "markdown",
      "source": [
        "**Get only EV charging stations**"
      ],
      "metadata": {
        "id": "1UoXGdcfu7jy"
      }
    },
    {
      "cell_type": "code",
      "source": [
        "ev_only = df_clean[df_clean[\"Fuel Type Code\"] == \"ELEC\"].copy()\n",
        "ev_gdf = gpd.GeoDataFrame(\n",
        "    ev_only,\n",
        "    geometry=gpd.points_from_xy(ev_only.Longitude, ev_only.Latitude),\n",
        "    crs=\"EPSG:4326\"\n",
        ")\n"
      ],
      "metadata": {
        "id": "rQJlslOguI2G"
      },
      "execution_count": null,
      "outputs": []
    },
    {
      "cell_type": "code",
      "source": [
        "from google.colab import files\n",
        "uploaded = files.upload()\n"
      ],
      "metadata": {
        "id": "BSEt6RVdu6TF"
      },
      "execution_count": null,
      "outputs": []
    },
    {
      "cell_type": "code",
      "source": [
        "import zipfile\n",
        "with zipfile.ZipFile(\"tl_2019_us_county.zip\", \"r\") as zip_ref:\n",
        "    zip_ref.extractall(\"county_shapefile\")\n"
      ],
      "metadata": {
        "id": "UyPVdNKfwzcI"
      },
      "execution_count": null,
      "outputs": []
    },
    {
      "cell_type": "code",
      "source": [
        "import geopandas as gpd\n",
        "counties = gpd.read_file(\"county_shapefile/tl_2019_us_county.shp\").to_crs(\"EPSG:4326\")\n",
        "counties.head()\n"
      ],
      "metadata": {
        "id": "xWvXSwzYxNpn"
      },
      "execution_count": null,
      "outputs": []
    },
    {
      "cell_type": "code",
      "source": [
        "joined = gpd.sjoin(ev_gdf, counties, predicate=\"within\")\n",
        "county_counts = joined.groupby(\"GEOID\").size().reset_index(name=\"ev_station_count\")\n",
        "counties_ev = counties.merge(county_counts, on=\"GEOID\", how=\"left\").fillna({\"ev_station_count\": 0})\n",
        "counties_ev.plot(column=\"ev_station_count\", cmap=\"viridis\", legend=True, figsize=(12,8))\n",
        "\n",
        "print(counties_ev.crs)\n",
        "counties_ev.head()\n"
      ],
      "metadata": {
        "collapsed": true,
        "id": "AqIlkLAP5Nmh"
      },
      "execution_count": null,
      "outputs": []
    },
    {
      "cell_type": "code",
      "source": [
        "import folium\n",
        "from folium.features import GeoJson, GeoJsonTooltip\n",
        "import geopandas as gpd\n",
        "import numpy as np\n",
        "\n",
        "# Simplify geometries for faster rendering\n",
        "counties_simple = counties_ev.copy()\n",
        "counties_simple[\"geometry\"] = counties_simple[\"geometry\"].simplify(0.01, preserve_topology=True)\n",
        "\n",
        "# Compute a logarithmic scale for the EV station counts\n",
        "counties_simple[\"log_ev_station_count\"] = np.log10(counties_simple[\"ev_station_count\"] + 1)\n",
        "\n",
        "# Create base map\n",
        "m = folium.Map(\n",
        "    location=[37.8, -96],\n",
        "    zoom_start=4,\n",
        "    tiles=\"CartoDB positron\"\n",
        ")\n",
        "\n",
        "# Add choropleth layer with logarithmic scale\n",
        "choropleth = folium.Choropleth(\n",
        "    geo_data=counties_simple,\n",
        "    data=counties_simple,\n",
        "    columns=[\"GEOID\", \"log_ev_station_count\"],\n",
        "    key_on=\"feature.properties.GEOID\",\n",
        "    fill_color=\"YlOrRd\",         # gradient palette\n",
        "    fill_opacity=0.8,\n",
        "    line_opacity=0,              # removes blue borders\n",
        "    legend_name=\"Log10 of EV Stations per County\"\n",
        ")\n",
        "choropleth.add_to(m)\n",
        "\n",
        "# Add hover tooltips (county name + raw count)\n",
        "GeoJson(\n",
        "    counties_simple,\n",
        "    style_function=lambda x: {\"fillOpacity\": 0, \"color\": \"transparent\"},\n",
        "    tooltip=GeoJsonTooltip(\n",
        "        fields=[\"NAME\", \"ev_station_count\"],\n",
        "        aliases=[\"County:\", \"EV Stations:\"],\n",
        "        localize=True\n",
        "    )\n",
        ").add_to(m)\n",
        "\n",
        "# Display the interactive map\n",
        "m\n"
      ],
      "metadata": {
        "id": "zCAJ-QXD6u_O"
      },
      "execution_count": null,
      "outputs": []
    },
    {
      "cell_type": "code",
      "source": [
        "import folium\n",
        "import matplotlib.cm as cm\n",
        "import matplotlib.colors as colors\n",
        "import numpy as np\n",
        "\n",
        "# base map\n",
        "coverage_solid_map = folium.Map(\n",
        "    location=[37.8, -96],\n",
        "    zoom_start=4,\n",
        "    tiles=\"CartoDB positron\"\n",
        ")\n",
        "\n",
        "# faint county outlines\n",
        "folium.GeoJson(\n",
        "    counties_ev,\n",
        "    style_function=lambda x: {\n",
        "        \"fillOpacity\": 0,\n",
        "        \"color\": \"#555555\",\n",
        "        \"weight\": 0.2\n",
        "    }\n",
        ").add_to(coverage_solid_map)\n",
        "\n",
        "# circle parameters\n",
        "radius_miles = 2\n",
        "radius_meters = radius_miles * 1609\n",
        "fill_opacity = 0.08\n",
        "\n",
        "# create a colormap from yellow → purple\n",
        "colormap = cm.get_cmap(\"plasma\")  # or try \"inferno\", \"magma\", \"viridis\"\n",
        "\n",
        "# generate N distinct colors across that colormap\n",
        "colors_list = [colors.rgb2hex(colormap(i)) for i in np.linspace(0, 1, 10)]\n",
        "\n",
        "# assign each circle a color based on a simple random pick (visually looks blended)\n",
        "for i, (_, row) in enumerate(ev_gdf.iterrows()):\n",
        "    fill_color = colors_list[i % len(colors_list)]  # cycle through color list\n",
        "    folium.Circle(\n",
        "        location=[row[\"Latitude\"], row[\"Longitude\"]],\n",
        "        radius=radius_meters,\n",
        "        color=None,\n",
        "        fill=True,\n",
        "        fill_color=fill_color,\n",
        "        fill_opacity=fill_opacity\n",
        "    ).add_to(coverage_solid_map)\n",
        "\n",
        "coverage_solid_map\n"
      ],
      "metadata": {
        "id": "tjP7tjAT8uSu"
      },
      "execution_count": null,
      "outputs": []
    }
  ]
}